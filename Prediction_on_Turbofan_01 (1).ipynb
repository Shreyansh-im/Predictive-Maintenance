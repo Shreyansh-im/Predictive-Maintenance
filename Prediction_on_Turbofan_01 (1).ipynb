{
  "nbformat": 4,
  "nbformat_minor": 0,
  "metadata": {
    "colab": {
      "provenance": []
    },
    "kernelspec": {
      "name": "python3",
      "display_name": "Python 3"
    },
    "language_info": {
      "name": "python"
    }
  },
  "cells": [
    {
      "cell_type": "markdown",
      "source": [
        "**Linear Regression program on Prediction of Turbofan Engine**"
      ],
      "metadata": {
        "id": "UlfyEp9Lk3Xx"
      }
    },
    {
      "cell_type": "code",
      "execution_count": null,
      "metadata": {
        "id": "rcoKSWIsVWV4"
      },
      "outputs": [],
      "source": [
        "#collecting data\n",
        "import pandas as pd\n",
        "import numpy as np\n",
        "import seaborn as sns\n",
        "import matplotlib.pyplot as plt\n",
        "%matplotlib inline\n",
        "import math"
      ]
    },
    {
      "cell_type": "code",
      "source": [
        "data = pd.read_excel(\"/content/Final Dataset head.xlsx\")"
      ],
      "metadata": {
        "id": "44yZBGMtagc6"
      },
      "execution_count": null,
      "outputs": []
    },
    {
      "cell_type": "code",
      "source": [
        "data.head()"
      ],
      "metadata": {
        "colab": {
          "base_uri": "https://localhost:8080/",
          "height": 317
        },
        "id": "IvK4Z_T6bXpT",
        "outputId": "dea12667-b4f4-4a2f-eca5-7ab089f04028"
      },
      "execution_count": null,
      "outputs": [
        {
          "output_type": "execute_result",
          "data": {
            "text/plain": [
              "   Unnamed: 0  id  cycle  setting1  setting2        s1        s2        s3  \\\n",
              "0           0   1      1   0.65625  0.692308  0.670881  0.596215  0.421968   \n",
              "1           1   1      2   0.34375  0.230769  0.304560  0.182965  0.504025   \n",
              "2           2   1      3   0.53125  0.538462  0.534520  0.419558  0.464814   \n",
              "3           3   1      4   0.77500  0.461538  0.678870  0.413249  0.391587   \n",
              "4           4   1      5   0.60000  0.461538  0.308790  0.435331  0.471306   \n",
              "\n",
              "         s4        s5  ...       s13       s14       s15       s16    s17  \\\n",
              "0  0.282214  0.343328  ...  0.325581  0.152259  0.347076  0.698789  0.375   \n",
              "1  0.225240  0.573590  ...  0.395349  0.277907  0.227709  0.687998  0.500   \n",
              "2  0.346130  0.295640  ...  0.325581  0.192892  0.533557  0.457542  0.500   \n",
              "3  0.449867  0.385460  ...  0.372093  0.217896  0.282359  0.198790  0.250   \n",
              "4  0.357974  0.285285  ...  0.325581  0.187891  0.337009  0.398760  0.125   \n",
              "\n",
              "        s18       s19       s20       s21  RUL  \n",
              "0  0.567450  0.289574  0.500000  0.620099  142  \n",
              "1  0.378570  0.336740  0.645455  0.645718  141  \n",
              "2  0.357485  0.335740  0.700000  0.681104  140  \n",
              "3  0.227640  0.289430  0.627273  0.620382  139  \n",
              "4  0.297490  0.189750  0.618182  0.676008  138  \n",
              "\n",
              "[5 rows x 27 columns]"
            ],
            "text/html": [
              "\n",
              "  <div id=\"df-2d3c55a8-d878-4df7-b6c9-c40675da8f8f\">\n",
              "    <div class=\"colab-df-container\">\n",
              "      <div>\n",
              "<style scoped>\n",
              "    .dataframe tbody tr th:only-of-type {\n",
              "        vertical-align: middle;\n",
              "    }\n",
              "\n",
              "    .dataframe tbody tr th {\n",
              "        vertical-align: top;\n",
              "    }\n",
              "\n",
              "    .dataframe thead th {\n",
              "        text-align: right;\n",
              "    }\n",
              "</style>\n",
              "<table border=\"1\" class=\"dataframe\">\n",
              "  <thead>\n",
              "    <tr style=\"text-align: right;\">\n",
              "      <th></th>\n",
              "      <th>Unnamed: 0</th>\n",
              "      <th>id</th>\n",
              "      <th>cycle</th>\n",
              "      <th>setting1</th>\n",
              "      <th>setting2</th>\n",
              "      <th>s1</th>\n",
              "      <th>s2</th>\n",
              "      <th>s3</th>\n",
              "      <th>s4</th>\n",
              "      <th>s5</th>\n",
              "      <th>...</th>\n",
              "      <th>s13</th>\n",
              "      <th>s14</th>\n",
              "      <th>s15</th>\n",
              "      <th>s16</th>\n",
              "      <th>s17</th>\n",
              "      <th>s18</th>\n",
              "      <th>s19</th>\n",
              "      <th>s20</th>\n",
              "      <th>s21</th>\n",
              "      <th>RUL</th>\n",
              "    </tr>\n",
              "  </thead>\n",
              "  <tbody>\n",
              "    <tr>\n",
              "      <th>0</th>\n",
              "      <td>0</td>\n",
              "      <td>1</td>\n",
              "      <td>1</td>\n",
              "      <td>0.65625</td>\n",
              "      <td>0.692308</td>\n",
              "      <td>0.670881</td>\n",
              "      <td>0.596215</td>\n",
              "      <td>0.421968</td>\n",
              "      <td>0.282214</td>\n",
              "      <td>0.343328</td>\n",
              "      <td>...</td>\n",
              "      <td>0.325581</td>\n",
              "      <td>0.152259</td>\n",
              "      <td>0.347076</td>\n",
              "      <td>0.698789</td>\n",
              "      <td>0.375</td>\n",
              "      <td>0.567450</td>\n",
              "      <td>0.289574</td>\n",
              "      <td>0.500000</td>\n",
              "      <td>0.620099</td>\n",
              "      <td>142</td>\n",
              "    </tr>\n",
              "    <tr>\n",
              "      <th>1</th>\n",
              "      <td>1</td>\n",
              "      <td>1</td>\n",
              "      <td>2</td>\n",
              "      <td>0.34375</td>\n",
              "      <td>0.230769</td>\n",
              "      <td>0.304560</td>\n",
              "      <td>0.182965</td>\n",
              "      <td>0.504025</td>\n",
              "      <td>0.225240</td>\n",
              "      <td>0.573590</td>\n",
              "      <td>...</td>\n",
              "      <td>0.395349</td>\n",
              "      <td>0.277907</td>\n",
              "      <td>0.227709</td>\n",
              "      <td>0.687998</td>\n",
              "      <td>0.500</td>\n",
              "      <td>0.378570</td>\n",
              "      <td>0.336740</td>\n",
              "      <td>0.645455</td>\n",
              "      <td>0.645718</td>\n",
              "      <td>141</td>\n",
              "    </tr>\n",
              "    <tr>\n",
              "      <th>2</th>\n",
              "      <td>2</td>\n",
              "      <td>1</td>\n",
              "      <td>3</td>\n",
              "      <td>0.53125</td>\n",
              "      <td>0.538462</td>\n",
              "      <td>0.534520</td>\n",
              "      <td>0.419558</td>\n",
              "      <td>0.464814</td>\n",
              "      <td>0.346130</td>\n",
              "      <td>0.295640</td>\n",
              "      <td>...</td>\n",
              "      <td>0.325581</td>\n",
              "      <td>0.192892</td>\n",
              "      <td>0.533557</td>\n",
              "      <td>0.457542</td>\n",
              "      <td>0.500</td>\n",
              "      <td>0.357485</td>\n",
              "      <td>0.335740</td>\n",
              "      <td>0.700000</td>\n",
              "      <td>0.681104</td>\n",
              "      <td>140</td>\n",
              "    </tr>\n",
              "    <tr>\n",
              "      <th>3</th>\n",
              "      <td>3</td>\n",
              "      <td>1</td>\n",
              "      <td>4</td>\n",
              "      <td>0.77500</td>\n",
              "      <td>0.461538</td>\n",
              "      <td>0.678870</td>\n",
              "      <td>0.413249</td>\n",
              "      <td>0.391587</td>\n",
              "      <td>0.449867</td>\n",
              "      <td>0.385460</td>\n",
              "      <td>...</td>\n",
              "      <td>0.372093</td>\n",
              "      <td>0.217896</td>\n",
              "      <td>0.282359</td>\n",
              "      <td>0.198790</td>\n",
              "      <td>0.250</td>\n",
              "      <td>0.227640</td>\n",
              "      <td>0.289430</td>\n",
              "      <td>0.627273</td>\n",
              "      <td>0.620382</td>\n",
              "      <td>139</td>\n",
              "    </tr>\n",
              "    <tr>\n",
              "      <th>4</th>\n",
              "      <td>4</td>\n",
              "      <td>1</td>\n",
              "      <td>5</td>\n",
              "      <td>0.60000</td>\n",
              "      <td>0.461538</td>\n",
              "      <td>0.308790</td>\n",
              "      <td>0.435331</td>\n",
              "      <td>0.471306</td>\n",
              "      <td>0.357974</td>\n",
              "      <td>0.285285</td>\n",
              "      <td>...</td>\n",
              "      <td>0.325581</td>\n",
              "      <td>0.187891</td>\n",
              "      <td>0.337009</td>\n",
              "      <td>0.398760</td>\n",
              "      <td>0.125</td>\n",
              "      <td>0.297490</td>\n",
              "      <td>0.189750</td>\n",
              "      <td>0.618182</td>\n",
              "      <td>0.676008</td>\n",
              "      <td>138</td>\n",
              "    </tr>\n",
              "  </tbody>\n",
              "</table>\n",
              "<p>5 rows × 27 columns</p>\n",
              "</div>\n",
              "      <button class=\"colab-df-convert\" onclick=\"convertToInteractive('df-2d3c55a8-d878-4df7-b6c9-c40675da8f8f')\"\n",
              "              title=\"Convert this dataframe to an interactive table.\"\n",
              "              style=\"display:none;\">\n",
              "        \n",
              "  <svg xmlns=\"http://www.w3.org/2000/svg\" height=\"24px\"viewBox=\"0 0 24 24\"\n",
              "       width=\"24px\">\n",
              "    <path d=\"M0 0h24v24H0V0z\" fill=\"none\"/>\n",
              "    <path d=\"M18.56 5.44l.94 2.06.94-2.06 2.06-.94-2.06-.94-.94-2.06-.94 2.06-2.06.94zm-11 1L8.5 8.5l.94-2.06 2.06-.94-2.06-.94L8.5 2.5l-.94 2.06-2.06.94zm10 10l.94 2.06.94-2.06 2.06-.94-2.06-.94-.94-2.06-.94 2.06-2.06.94z\"/><path d=\"M17.41 7.96l-1.37-1.37c-.4-.4-.92-.59-1.43-.59-.52 0-1.04.2-1.43.59L10.3 9.45l-7.72 7.72c-.78.78-.78 2.05 0 2.83L4 21.41c.39.39.9.59 1.41.59.51 0 1.02-.2 1.41-.59l7.78-7.78 2.81-2.81c.8-.78.8-2.07 0-2.86zM5.41 20L4 18.59l7.72-7.72 1.47 1.35L5.41 20z\"/>\n",
              "  </svg>\n",
              "      </button>\n",
              "      \n",
              "  <style>\n",
              "    .colab-df-container {\n",
              "      display:flex;\n",
              "      flex-wrap:wrap;\n",
              "      gap: 12px;\n",
              "    }\n",
              "\n",
              "    .colab-df-convert {\n",
              "      background-color: #E8F0FE;\n",
              "      border: none;\n",
              "      border-radius: 50%;\n",
              "      cursor: pointer;\n",
              "      display: none;\n",
              "      fill: #1967D2;\n",
              "      height: 32px;\n",
              "      padding: 0 0 0 0;\n",
              "      width: 32px;\n",
              "    }\n",
              "\n",
              "    .colab-df-convert:hover {\n",
              "      background-color: #E2EBFA;\n",
              "      box-shadow: 0px 1px 2px rgba(60, 64, 67, 0.3), 0px 1px 3px 1px rgba(60, 64, 67, 0.15);\n",
              "      fill: #174EA6;\n",
              "    }\n",
              "\n",
              "    [theme=dark] .colab-df-convert {\n",
              "      background-color: #3B4455;\n",
              "      fill: #D2E3FC;\n",
              "    }\n",
              "\n",
              "    [theme=dark] .colab-df-convert:hover {\n",
              "      background-color: #434B5C;\n",
              "      box-shadow: 0px 1px 3px 1px rgba(0, 0, 0, 0.15);\n",
              "      filter: drop-shadow(0px 1px 2px rgba(0, 0, 0, 0.3));\n",
              "      fill: #FFFFFF;\n",
              "    }\n",
              "  </style>\n",
              "\n",
              "      <script>\n",
              "        const buttonEl =\n",
              "          document.querySelector('#df-2d3c55a8-d878-4df7-b6c9-c40675da8f8f button.colab-df-convert');\n",
              "        buttonEl.style.display =\n",
              "          google.colab.kernel.accessAllowed ? 'block' : 'none';\n",
              "\n",
              "        async function convertToInteractive(key) {\n",
              "          const element = document.querySelector('#df-2d3c55a8-d878-4df7-b6c9-c40675da8f8f');\n",
              "          const dataTable =\n",
              "            await google.colab.kernel.invokeFunction('convertToInteractive',\n",
              "                                                     [key], {});\n",
              "          if (!dataTable) return;\n",
              "\n",
              "          const docLinkHtml = 'Like what you see? Visit the ' +\n",
              "            '<a target=\"_blank\" href=https://colab.research.google.com/notebooks/data_table.ipynb>data table notebook</a>'\n",
              "            + ' to learn more about interactive tables.';\n",
              "          element.innerHTML = '';\n",
              "          dataTable['output_type'] = 'display_data';\n",
              "          await google.colab.output.renderOutput(dataTable, element);\n",
              "          const docLink = document.createElement('div');\n",
              "          docLink.innerHTML = docLinkHtml;\n",
              "          element.appendChild(docLink);\n",
              "        }\n",
              "      </script>\n",
              "    </div>\n",
              "  </div>\n",
              "  "
            ]
          },
          "metadata": {},
          "execution_count": 3
        }
      ]
    },
    {
      "cell_type": "code",
      "source": [
        "print(\"Cycles in original data: \" +str(len(data.index)))"
      ],
      "metadata": {
        "colab": {
          "base_uri": "https://localhost:8080/"
        },
        "id": "qD1aNfwSbeuv",
        "outputId": "b1f3dfaf-0eec-4914-d1be-70bcc798edfd"
      },
      "execution_count": null,
      "outputs": [
        {
          "output_type": "stream",
          "name": "stdout",
          "text": [
            "Cycles in original data: 5\n"
          ]
        }
      ]
    },
    {
      "cell_type": "code",
      "source": [
        "data.tail"
      ],
      "metadata": {
        "colab": {
          "base_uri": "https://localhost:8080/"
        },
        "id": "6YH927zkb_Vy",
        "outputId": "6502cc49-bdd4-43c0-ed7f-e52b24f78f9f"
      },
      "execution_count": null,
      "outputs": [
        {
          "output_type": "execute_result",
          "data": {
            "text/plain": [
              "<bound method NDFrame.tail of    Unnamed: 0  id  cycle  setting1  setting2        s1        s2        s3  \\\n",
              "0           0   1      1   0.65625  0.692308  0.670881  0.596215  0.421968   \n",
              "1           1   1      2   0.34375  0.230769  0.304560  0.182965  0.504025   \n",
              "2           2   1      3   0.53125  0.538462  0.534520  0.419558  0.464814   \n",
              "3           3   1      4   0.77500  0.461538  0.678870  0.413249  0.391587   \n",
              "4           4   1      5   0.60000  0.461538  0.308790  0.435331  0.471306   \n",
              "\n",
              "         s4        s5  ...       s13       s14       s15       s16    s17  \\\n",
              "0  0.282214  0.343328  ...  0.325581  0.152259  0.347076  0.698789  0.375   \n",
              "1  0.225240  0.573590  ...  0.395349  0.277907  0.227709  0.687998  0.500   \n",
              "2  0.346130  0.295640  ...  0.325581  0.192892  0.533557  0.457542  0.500   \n",
              "3  0.449867  0.385460  ...  0.372093  0.217896  0.282359  0.198790  0.250   \n",
              "4  0.357974  0.285285  ...  0.325581  0.187891  0.337009  0.398760  0.125   \n",
              "\n",
              "        s18       s19       s20       s21  RUL  \n",
              "0  0.567450  0.289574  0.500000  0.620099  142  \n",
              "1  0.378570  0.336740  0.645455  0.645718  141  \n",
              "2  0.357485  0.335740  0.700000  0.681104  140  \n",
              "3  0.227640  0.289430  0.627273  0.620382  139  \n",
              "4  0.297490  0.189750  0.618182  0.676008  138  \n",
              "\n",
              "[5 rows x 27 columns]>"
            ]
          },
          "metadata": {},
          "execution_count": 5
        }
      ]
    },
    {
      "cell_type": "code",
      "source": [
        "data.columns"
      ],
      "metadata": {
        "colab": {
          "base_uri": "https://localhost:8080/"
        },
        "id": "iWJkVPpVcEAP",
        "outputId": "8f5b7a1f-9872-4762-8db6-b3450e364e4b"
      },
      "execution_count": null,
      "outputs": [
        {
          "output_type": "execute_result",
          "data": {
            "text/plain": [
              "Index(['Unnamed: 0', 'id', 'cycle', 'setting1', 'setting2', 's1', 's2', 's3',\n",
              "       's4', 's5', 's6', 's7', 's8', 's9', 's10', 's11', 's12', 's13', 's14',\n",
              "       's15', 's16', 's17', 's18', 's19', 's20', 's21', 'RUL'],\n",
              "      dtype='object')"
            ]
          },
          "metadata": {},
          "execution_count": 6
        }
      ]
    },
    {
      "cell_type": "code",
      "source": [
        "data.shape"
      ],
      "metadata": {
        "colab": {
          "base_uri": "https://localhost:8080/"
        },
        "id": "8uZ8VrZ2cIuu",
        "outputId": "f83db80b-0e43-411f-c872-27d35a172aad"
      },
      "execution_count": null,
      "outputs": [
        {
          "output_type": "execute_result",
          "data": {
            "text/plain": [
              "(5, 27)"
            ]
          },
          "metadata": {},
          "execution_count": 7
        }
      ]
    },
    {
      "cell_type": "code",
      "source": [
        "data.describe"
      ],
      "metadata": {
        "colab": {
          "base_uri": "https://localhost:8080/"
        },
        "id": "RU0G2dWddhV1",
        "outputId": "cda6a152-206a-4a88-e8ad-0a6f076b58fa"
      },
      "execution_count": null,
      "outputs": [
        {
          "output_type": "execute_result",
          "data": {
            "text/plain": [
              "<bound method NDFrame.describe of    Unnamed: 0  id  cycle  setting1  setting2        s1        s2        s3  \\\n",
              "0           0   1      1   0.65625  0.692308  0.670881  0.596215  0.421968   \n",
              "1           1   1      2   0.34375  0.230769  0.304560  0.182965  0.504025   \n",
              "2           2   1      3   0.53125  0.538462  0.534520  0.419558  0.464814   \n",
              "3           3   1      4   0.77500  0.461538  0.678870  0.413249  0.391587   \n",
              "4           4   1      5   0.60000  0.461538  0.308790  0.435331  0.471306   \n",
              "\n",
              "         s4        s5  ...       s13       s14       s15       s16    s17  \\\n",
              "0  0.282214  0.343328  ...  0.325581  0.152259  0.347076  0.698789  0.375   \n",
              "1  0.225240  0.573590  ...  0.395349  0.277907  0.227709  0.687998  0.500   \n",
              "2  0.346130  0.295640  ...  0.325581  0.192892  0.533557  0.457542  0.500   \n",
              "3  0.449867  0.385460  ...  0.372093  0.217896  0.282359  0.198790  0.250   \n",
              "4  0.357974  0.285285  ...  0.325581  0.187891  0.337009  0.398760  0.125   \n",
              "\n",
              "        s18       s19       s20       s21  RUL  \n",
              "0  0.567450  0.289574  0.500000  0.620099  142  \n",
              "1  0.378570  0.336740  0.645455  0.645718  141  \n",
              "2  0.357485  0.335740  0.700000  0.681104  140  \n",
              "3  0.227640  0.289430  0.627273  0.620382  139  \n",
              "4  0.297490  0.189750  0.618182  0.676008  138  \n",
              "\n",
              "[5 rows x 27 columns]>"
            ]
          },
          "metadata": {},
          "execution_count": 8
        }
      ]
    },
    {
      "cell_type": "markdown",
      "source": [
        "**Visualization[Data visualization]**"
      ],
      "metadata": {
        "id": "TwEZtrV7kQ87"
      }
    },
    {
      "cell_type": "code",
      "source": [
        "#visualization[Data Visualization]\n",
        "data.isnull().sum()"
      ],
      "metadata": {
        "colab": {
          "base_uri": "https://localhost:8080/"
        },
        "id": "FDgorxkidqSN",
        "outputId": "7a22bd18-c52c-49c5-f5c6-fb20fbabf491"
      },
      "execution_count": null,
      "outputs": [
        {
          "output_type": "execute_result",
          "data": {
            "text/plain": [
              "Unnamed: 0    0\n",
              "id            0\n",
              "cycle         0\n",
              "setting1      0\n",
              "setting2      0\n",
              "s1            0\n",
              "s2            0\n",
              "s3            0\n",
              "s4            0\n",
              "s5            0\n",
              "s6            0\n",
              "s7            0\n",
              "s8            0\n",
              "s9            0\n",
              "s10           0\n",
              "s11           0\n",
              "s12           0\n",
              "s13           0\n",
              "s14           0\n",
              "s15           0\n",
              "s16           0\n",
              "s17           0\n",
              "s18           0\n",
              "s19           0\n",
              "s20           0\n",
              "s21           0\n",
              "RUL           0\n",
              "dtype: int64"
            ]
          },
          "metadata": {},
          "execution_count": 9
        }
      ]
    },
    {
      "cell_type": "markdown",
      "source": [
        "**Analyzing data**"
      ],
      "metadata": {
        "id": "Ekrh6NSJkMlc"
      }
    },
    {
      "cell_type": "code",
      "source": [
        "#Analyzing data\n",
        "sns.countplot(x = \"id\", data=data)"
      ],
      "metadata": {
        "colab": {
          "base_uri": "https://localhost:8080/",
          "height": 297
        },
        "id": "CCJp9PTUd4HI",
        "outputId": "e23e7451-7c6b-4ac3-94a4-49d524ac8c46"
      },
      "execution_count": null,
      "outputs": [
        {
          "output_type": "execute_result",
          "data": {
            "text/plain": [
              "<matplotlib.axes._subplots.AxesSubplot at 0x7f9bec697290>"
            ]
          },
          "metadata": {},
          "execution_count": 10
        },
        {
          "output_type": "display_data",
          "data": {
            "text/plain": [
              "<Figure size 432x288 with 1 Axes>"
            ],
            "image/png": "[encoded data removed]"
          },
          "metadata": {
            "needs_background": "light"
          }
        }
      ]
    },
    {
      "cell_type": "code",
      "source": [
        "sns.relplot(x=\"id\", y=\"setting1\", data=data)"
      ],
      "metadata": {
        "colab": {
          "base_uri": "https://localhost:8080/",
          "height": 387
        },
        "id": "ktLuacoiedvn",
        "outputId": "012bd934-e418-4746-c78f-92ac423487d3"
      },
      "execution_count": null,
      "outputs": [
        {
          "output_type": "execute_result",
          "data": {
            "text/plain": [
              "<seaborn.axisgrid.FacetGrid at 0x7f9bec5d2790>"
            ]
          },
          "metadata": {},
          "execution_count": 12
        },
        {
          "output_type": "display_data",
          "data": {
            "text/plain": [
              "<Figure size 360x360 with 1 Axes>"
            ],
            "image/png": "[encoded data removed]"
          },
          "metadata": {
            "needs_background": "light"
          }
        }
      ]
    },
    {
      "cell_type": "code",
      "source": [
        "sns.countplot(x=\"id\", hue=\"setting2\", data=data)"
      ],
      "metadata": {
        "colab": {
          "base_uri": "https://localhost:8080/",
          "height": 297
        },
        "id": "4wTIBvZwfUPd",
        "outputId": "22fb32b4-30a3-4407-e07f-a30268625f58"
      },
      "execution_count": null,
      "outputs": [
        {
          "output_type": "execute_result",
          "data": {
            "text/plain": [
              "<matplotlib.axes._subplots.AxesSubplot at 0x7f9bec0c1250>"
            ]
          },
          "metadata": {},
          "execution_count": 13
        },
        {
          "output_type": "display_data",
          "data": {
            "text/plain": [
              "<Figure size 432x288 with 1 Axes>"
            ],
            "image/png": "[encoded data removed]"
          },
          "metadata": {
            "needs_background": "light"
          }
        }
      ]
    },
    {
      "cell_type": "code",
      "source": [
        "sns.countplot(x=\"id\", hue=\"setting1\", data=data)"
      ],
      "metadata": {
        "colab": {
          "base_uri": "https://localhost:8080/",
          "height": 297
        },
        "id": "i6i4HtEJguwf",
        "outputId": "cdfbb3fd-a6ce-4f7e-82ba-9198169963e6"
      },
      "execution_count": null,
      "outputs": [
        {
          "output_type": "execute_result",
          "data": {
            "text/plain": [
              "<matplotlib.axes._subplots.AxesSubplot at 0x7f9be97c5810>"
            ]
          },
          "metadata": {},
          "execution_count": 14
        },
        {
          "output_type": "display_data",
          "data": {
            "text/plain": [
              "<Figure size 432x288 with 1 Axes>"
            ],
            "image/png": "[encoded data removed]"
          },
          "metadata": {
            "needs_background": "light"
          }
        }
      ]
    },
    {
      "cell_type": "code",
      "source": [
        "data[\"setting1\"].plot.hist()"
      ],
      "metadata": {
        "colab": {
          "base_uri": "https://localhost:8080/",
          "height": 283
        },
        "id": "UdHqEbTNiGFO",
        "outputId": "4c2cf0ce-db93-433f-f4c1-59a244ab9ed5"
      },
      "execution_count": null,
      "outputs": [
        {
          "output_type": "execute_result",
          "data": {
            "text/plain": [
              "<matplotlib.axes._subplots.AxesSubplot at 0x7f9be971c9d0>"
            ]
          },
          "metadata": {},
          "execution_count": 15
        },
        {
          "output_type": "display_data",
          "data": {
            "text/plain": [
              "<Figure size 432x288 with 1 Axes>"
            ],
            "image/png": "[encoded data removed]"
          },
          "metadata": {
            "needs_background": "light"
          }
        }
      ]
    },
    {
      "cell_type": "code",
      "source": [
        "data.info()"
      ],
      "metadata": {
        "colab": {
          "base_uri": "https://localhost:8080/"
        },
        "id": "pFeiZ0FHihxa",
        "outputId": "cfafb4be-81fa-452c-fc6e-5d6a7a99c7bd"
      },
      "execution_count": null,
      "outputs": [
        {
          "output_type": "stream",
          "name": "stdout",
          "text": [
            "<class 'pandas.core.frame.DataFrame'>\n",
            "RangeIndex: 5 entries, 0 to 4\n",
            "Data columns (total 27 columns):\n",
            " #   Column      Non-Null Count  Dtype  \n",
            "---  ------      --------------  -----  \n",
            " 0   Unnamed: 0  5 non-null      int64  \n",
            " 1   id          5 non-null      int64  \n",
            " 2   cycle       5 non-null      int64  \n",
            " 3   setting1    5 non-null      float64\n",
            " 4   setting2    5 non-null      float64\n",
            " 5   s1          5 non-null      float64\n",
            " 6   s2          5 non-null      float64\n",
            " 7   s3          5 non-null      float64\n",
            " 8   s4          5 non-null      float64\n",
            " 9   s5          5 non-null      float64\n",
            " 10  s6          5 non-null      int64  \n",
            " 11  s7          5 non-null      float64\n",
            " 12  s8          5 non-null      float64\n",
            " 13  s9          5 non-null      float64\n",
            " 14  s10         5 non-null      float64\n",
            " 15  s11         5 non-null      float64\n",
            " 16  s12         5 non-null      float64\n",
            " 17  s13         5 non-null      float64\n",
            " 18  s14         5 non-null      float64\n",
            " 19  s15         5 non-null      float64\n",
            " 20  s16         5 non-null      float64\n",
            " 21  s17         5 non-null      float64\n",
            " 22  s18         5 non-null      float64\n",
            " 23  s19         5 non-null      float64\n",
            " 24  s20         5 non-null      float64\n",
            " 25  s21         5 non-null      float64\n",
            " 26  RUL         5 non-null      int64  \n",
            "dtypes: float64(22), int64(5)\n",
            "memory usage: 1.2 KB\n"
          ]
        }
      ]
    },
    {
      "cell_type": "code",
      "source": [
        "sns.countplot(x=\"s1\", data=data)"
      ],
      "metadata": {
        "colab": {
          "base_uri": "https://localhost:8080/",
          "height": 297
        },
        "id": "jzMUo7xMiljB",
        "outputId": "fa55b2a0-a63e-4b74-c071-a723ade1d833"
      },
      "execution_count": null,
      "outputs": [
        {
          "output_type": "execute_result",
          "data": {
            "text/plain": [
              "<matplotlib.axes._subplots.AxesSubplot at 0x7f9be9753110>"
            ]
          },
          "metadata": {},
          "execution_count": 17
        },
        {
          "output_type": "display_data",
          "data": {
            "text/plain": [
              "<Figure size 432x288 with 1 Axes>"
            ],
            "image/png": "[encoded data removed]"
          },
          "metadata": {
            "needs_background": "light"
          }
        }
      ]
    },
    {
      "cell_type": "markdown",
      "source": [
        "**Data Wrangling = Data Cleaning**\n"
      ],
      "metadata": {
        "id": "y3uh27Z7kFGc"
      }
    },
    {
      "cell_type": "code",
      "source": [
        "#data wrangling = cleaning data\n",
        "data.isnull()"
      ],
      "metadata": {
        "colab": {
          "base_uri": "https://localhost:8080/",
          "height": 279
        },
        "id": "ORP1WVtWi7yb",
        "outputId": "cad77853-8261-4457-a3b2-e487f10d2a22"
      },
      "execution_count": null,
      "outputs": [
        {
          "output_type": "execute_result",
          "data": {
            "text/plain": [
              "   Unnamed: 0     id  cycle  setting1  setting2     s1     s2     s3     s4  \\\n",
              "0       False  False  False     False     False  False  False  False  False   \n",
              "1       False  False  False     False     False  False  False  False  False   \n",
              "2       False  False  False     False     False  False  False  False  False   \n",
              "3       False  False  False     False     False  False  False  False  False   \n",
              "4       False  False  False     False     False  False  False  False  False   \n",
              "\n",
              "      s5  ...    s13    s14    s15    s16    s17    s18    s19    s20    s21  \\\n",
              "0  False  ...  False  False  False  False  False  False  False  False  False   \n",
              "1  False  ...  False  False  False  False  False  False  False  False  False   \n",
              "2  False  ...  False  False  False  False  False  False  False  False  False   \n",
              "3  False  ...  False  False  False  False  False  False  False  False  False   \n",
              "4  False  ...  False  False  False  False  False  False  False  False  False   \n",
              "\n",
              "     RUL  \n",
              "0  False  \n",
              "1  False  \n",
              "2  False  \n",
              "3  False  \n",
              "4  False  \n",
              "\n",
              "[5 rows x 27 columns]"
            ],
            "text/html": [
              "\n",
              "  <div id=\"df-de54abe4-5b31-4058-bb66-9213b9bed4d6\">\n",
              "    <div class=\"colab-df-container\">\n",
              "      <div>\n",
              "<style scoped>\n",
              "    .dataframe tbody tr th:only-of-type {\n",
              "        vertical-align: middle;\n",
              "    }\n",
              "\n",
              "    .dataframe tbody tr th {\n",
              "        vertical-align: top;\n",
              "    }\n",
              "\n",
              "    .dataframe thead th {\n",
              "        text-align: right;\n",
              "    }\n",
              "</style>\n",
              "<table border=\"1\" class=\"dataframe\">\n",
              "  <thead>\n",
              "    <tr style=\"text-align: right;\">\n",
              "      <th></th>\n",
              "      <th>Unnamed: 0</th>\n",
              "      <th>id</th>\n",
              "      <th>cycle</th>\n",
              "      <th>setting1</th>\n",
              "      <th>setting2</th>\n",
              "      <th>s1</th>\n",
              "      <th>s2</th>\n",
              "      <th>s3</th>\n",
              "      <th>s4</th>\n",
              "      <th>s5</th>\n",
              "      <th>...</th>\n",
              "      <th>s13</th>\n",
              "      <th>s14</th>\n",
              "      <th>s15</th>\n",
              "      <th>s16</th>\n",
              "      <th>s17</th>\n",
              "      <th>s18</th>\n",
              "      <th>s19</th>\n",
              "      <th>s20</th>\n",
              "      <th>s21</th>\n",
              "      <th>RUL</th>\n",
              "    </tr>\n",
              "  </thead>\n",
              "  <tbody>\n",
              "    <tr>\n",
              "      <th>0</th>\n",
              "      <td>False</td>\n",
              "      <td>False</td>\n",
              "      <td>False</td>\n",
              "      <td>False</td>\n",
              "      <td>False</td>\n",
              "      <td>False</td>\n",
              "      <td>False</td>\n",
              "      <td>False</td>\n",
              "      <td>False</td>\n",
              "      <td>False</td>\n",
              "      <td>...</td>\n",
              "      <td>False</td>\n",
              "      <td>False</td>\n",
              "      <td>False</td>\n",
              "      <td>False</td>\n",
              "      <td>False</td>\n",
              "      <td>False</td>\n",
              "      <td>False</td>\n",
              "      <td>False</td>\n",
              "      <td>False</td>\n",
              "      <td>False</td>\n",
              "    </tr>\n",
              "    <tr>\n",
              "      <th>1</th>\n",
              "      <td>False</td>\n",
              "      <td>False</td>\n",
              "      <td>False</td>\n",
              "      <td>False</td>\n",
              "      <td>False</td>\n",
              "      <td>False</td>\n",
              "      <td>False</td>\n",
              "      <td>False</td>\n",
              "      <td>False</td>\n",
              "      <td>False</td>\n",
              "      <td>...</td>\n",
              "      <td>False</td>\n",
              "      <td>False</td>\n",
              "      <td>False</td>\n",
              "      <td>False</td>\n",
              "      <td>False</td>\n",
              "      <td>False</td>\n",
              "      <td>False</td>\n",
              "      <td>False</td>\n",
              "      <td>False</td>\n",
              "      <td>False</td>\n",
              "    </tr>\n",
              "    <tr>\n",
              "      <th>2</th>\n",
              "      <td>False</td>\n",
              "      <td>False</td>\n",
              "      <td>False</td>\n",
              "      <td>False</td>\n",
              "      <td>False</td>\n",
              "      <td>False</td>\n",
              "      <td>False</td>\n",
              "      <td>False</td>\n",
              "      <td>False</td>\n",
              "      <td>False</td>\n",
              "      <td>...</td>\n",
              "      <td>False</td>\n",
              "      <td>False</td>\n",
              "      <td>False</td>\n",
              "      <td>False</td>\n",
              "      <td>False</td>\n",
              "      <td>False</td>\n",
              "      <td>False</td>\n",
              "      <td>False</td>\n",
              "      <td>False</td>\n",
              "      <td>False</td>\n",
              "    </tr>\n",
              "    <tr>\n",
              "      <th>3</th>\n",
              "      <td>False</td>\n",
              "      <td>False</td>\n",
              "      <td>False</td>\n",
              "      <td>False</td>\n",
              "      <td>False</td>\n",
              "      <td>False</td>\n",
              "      <td>False</td>\n",
              "      <td>False</td>\n",
              "      <td>False</td>\n",
              "      <td>False</td>\n",
              "      <td>...</td>\n",
              "      <td>False</td>\n",
              "      <td>False</td>\n",
              "      <td>False</td>\n",
              "      <td>False</td>\n",
              "      <td>False</td>\n",
              "      <td>False</td>\n",
              "      <td>False</td>\n",
              "      <td>False</td>\n",
              "      <td>False</td>\n",
              "      <td>False</td>\n",
              "    </tr>\n",
              "    <tr>\n",
              "      <th>4</th>\n",
              "      <td>False</td>\n",
              "      <td>False</td>\n",
              "      <td>False</td>\n",
              "      <td>False</td>\n",
              "      <td>False</td>\n",
              "      <td>False</td>\n",
              "      <td>False</td>\n",
              "      <td>False</td>\n",
              "      <td>False</td>\n",
              "      <td>False</td>\n",
              "      <td>...</td>\n",
              "      <td>False</td>\n",
              "      <td>False</td>\n",
              "      <td>False</td>\n",
              "      <td>False</td>\n",
              "      <td>False</td>\n",
              "      <td>False</td>\n",
              "      <td>False</td>\n",
              "      <td>False</td>\n",
              "      <td>False</td>\n",
              "      <td>False</td>\n",
              "    </tr>\n",
              "  </tbody>\n",
              "</table>\n",
              "<p>5 rows × 27 columns</p>\n",
              "</div>\n",
              "      <button class=\"colab-df-convert\" onclick=\"convertToInteractive('df-de54abe4-5b31-4058-bb66-9213b9bed4d6')\"\n",
              "              title=\"Convert this dataframe to an interactive table.\"\n",
              "              style=\"display:none;\">\n",
              "        \n",
              "  <svg xmlns=\"http://www.w3.org/2000/svg\" height=\"24px\"viewBox=\"0 0 24 24\"\n",
              "       width=\"24px\">\n",
              "    <path d=\"M0 0h24v24H0V0z\" fill=\"none\"/>\n",
              "    <path d=\"M18.56 5.44l.94 2.06.94-2.06 2.06-.94-2.06-.94-.94-2.06-.94 2.06-2.06.94zm-11 1L8.5 8.5l.94-2.06 2.06-.94-2.06-.94L8.5 2.5l-.94 2.06-2.06.94zm10 10l.94 2.06.94-2.06 2.06-.94-2.06-.94-.94-2.06-.94 2.06-2.06.94z\"/><path d=\"M17.41 7.96l-1.37-1.37c-.4-.4-.92-.59-1.43-.59-.52 0-1.04.2-1.43.59L10.3 9.45l-7.72 7.72c-.78.78-.78 2.05 0 2.83L4 21.41c.39.39.9.59 1.41.59.51 0 1.02-.2 1.41-.59l7.78-7.78 2.81-2.81c.8-.78.8-2.07 0-2.86zM5.41 20L4 18.59l7.72-7.72 1.47 1.35L5.41 20z\"/>\n",
              "  </svg>\n",
              "      </button>\n",
              "      \n",
              "  <style>\n",
              "    .colab-df-container {\n",
              "      display:flex;\n",
              "      flex-wrap:wrap;\n",
              "      gap: 12px;\n",
              "    }\n",
              "\n",
              "    .colab-df-convert {\n",
              "      background-color: #E8F0FE;\n",
              "      border: none;\n",
              "      border-radius: 50%;\n",
              "      cursor: pointer;\n",
              "      display: none;\n",
              "      fill: #1967D2;\n",
              "      height: 32px;\n",
              "      padding: 0 0 0 0;\n",
              "      width: 32px;\n",
              "    }\n",
              "\n",
              "    .colab-df-convert:hover {\n",
              "      background-color: #E2EBFA;\n",
              "      box-shadow: 0px 1px 2px rgba(60, 64, 67, 0.3), 0px 1px 3px 1px rgba(60, 64, 67, 0.15);\n",
              "      fill: #174EA6;\n",
              "    }\n",
              "\n",
              "    [theme=dark] .colab-df-convert {\n",
              "      background-color: #3B4455;\n",
              "      fill: #D2E3FC;\n",
              "    }\n",
              "\n",
              "    [theme=dark] .colab-df-convert:hover {\n",
              "      background-color: #434B5C;\n",
              "      box-shadow: 0px 1px 3px 1px rgba(0, 0, 0, 0.15);\n",
              "      filter: drop-shadow(0px 1px 2px rgba(0, 0, 0, 0.3));\n",
              "      fill: #FFFFFF;\n",
              "    }\n",
              "  </style>\n",
              "\n",
              "      <script>\n",
              "        const buttonEl =\n",
              "          document.querySelector('#df-de54abe4-5b31-4058-bb66-9213b9bed4d6 button.colab-df-convert');\n",
              "        buttonEl.style.display =\n",
              "          google.colab.kernel.accessAllowed ? 'block' : 'none';\n",
              "\n",
              "        async function convertToInteractive(key) {\n",
              "          const element = document.querySelector('#df-de54abe4-5b31-4058-bb66-9213b9bed4d6');\n",
              "          const dataTable =\n",
              "            await google.colab.kernel.invokeFunction('convertToInteractive',\n",
              "                                                     [key], {});\n",
              "          if (!dataTable) return;\n",
              "\n",
              "          const docLinkHtml = 'Like what you see? Visit the ' +\n",
              "            '<a target=\"_blank\" href=https://colab.research.google.com/notebooks/data_table.ipynb>data table notebook</a>'\n",
              "            + ' to learn more about interactive tables.';\n",
              "          element.innerHTML = '';\n",
              "          dataTable['output_type'] = 'display_data';\n",
              "          await google.colab.output.renderOutput(dataTable, element);\n",
              "          const docLink = document.createElement('div');\n",
              "          docLink.innerHTML = docLinkHtml;\n",
              "          element.appendChild(docLink);\n",
              "        }\n",
              "      </script>\n",
              "    </div>\n",
              "  </div>\n",
              "  "
            ]
          },
          "metadata": {},
          "execution_count": 18
        }
      ]
    },
    {
      "cell_type": "code",
      "source": [
        "data.isnull().sum()"
      ],
      "metadata": {
        "colab": {
          "base_uri": "https://localhost:8080/"
        },
        "id": "BUcAVEQ3jRwV",
        "outputId": "016cdf3a-2cb5-4f96-ef60-c67c0bd14e32"
      },
      "execution_count": null,
      "outputs": [
        {
          "output_type": "execute_result",
          "data": {
            "text/plain": [
              "Unnamed: 0    0\n",
              "id            0\n",
              "cycle         0\n",
              "setting1      0\n",
              "setting2      0\n",
              "s1            0\n",
              "s2            0\n",
              "s3            0\n",
              "s4            0\n",
              "s5            0\n",
              "s6            0\n",
              "s7            0\n",
              "s8            0\n",
              "s9            0\n",
              "s10           0\n",
              "s11           0\n",
              "s12           0\n",
              "s13           0\n",
              "s14           0\n",
              "s15           0\n",
              "s16           0\n",
              "s17           0\n",
              "s18           0\n",
              "s19           0\n",
              "s20           0\n",
              "s21           0\n",
              "RUL           0\n",
              "dtype: int64"
            ]
          },
          "metadata": {},
          "execution_count": 19
        }
      ]
    },
    {
      "cell_type": "code",
      "source": [
        "sns.heatmap(data.isnull())"
      ],
      "metadata": {
        "colab": {
          "base_uri": "https://localhost:8080/",
          "height": 337
        },
        "id": "kObmzY5hjbH0",
        "outputId": "8a857e42-ead8-42cb-bc37-4c6061236ccc"
      },
      "execution_count": null,
      "outputs": [
        {
          "output_type": "execute_result",
          "data": {
            "text/plain": [
              "<matplotlib.axes._subplots.AxesSubplot at 0x7f9be951aed0>"
            ]
          },
          "metadata": {},
          "execution_count": 20
        },
        {
          "output_type": "display_data",
          "data": {
            "text/plain": [
              "<Figure size 432x288 with 2 Axes>"
            ],
            "image/png": "[encoded data removed]"
          },
          "metadata": {
            "needs_background": "light"
          }
        }
      ]
    },
    {
      "cell_type": "code",
      "source": [
        "sns.boxplot(x=\"cycle\", y=\"s1\", data=data)"
      ],
      "metadata": {
        "colab": {
          "base_uri": "https://localhost:8080/",
          "height": 297
        },
        "id": "43HjHw39jlmM",
        "outputId": "6bcad49a-ed16-400e-866b-012afb26b1de"
      },
      "execution_count": null,
      "outputs": [
        {
          "output_type": "execute_result",
          "data": {
            "text/plain": [
              "<matplotlib.axes._subplots.AxesSubplot at 0x7f9be9497e50>"
            ]
          },
          "metadata": {},
          "execution_count": 21
        },
        {
          "output_type": "display_data",
          "data": {
            "text/plain": [
              "<Figure size 432x288 with 1 Axes>"
            ],
            "image/png": "[encoded data removed]"
          },
          "metadata": {
            "needs_background": "light"
          }
        }
      ]
    },
    {
      "cell_type": "code",
      "source": [
        "data.drop(\"id\", axis=1, inplace = True)"
      ],
      "metadata": {
        "id": "-hWvmIhslPfN"
      },
      "execution_count": null,
      "outputs": []
    },
    {
      "cell_type": "code",
      "source": [
        "data.head()"
      ],
      "metadata": {
        "colab": {
          "base_uri": "https://localhost:8080/",
          "height": 317
        },
        "id": "ZB8WmxdKmYHb",
        "outputId": "4e7c041e-6395-4047-8b8b-8ef04fc591d2"
      },
      "execution_count": null,
      "outputs": [
        {
          "output_type": "execute_result",
          "data": {
            "text/plain": [
              "   Unnamed: 0  cycle  setting1  setting2        s1        s2        s3  \\\n",
              "0           0      1   0.65625  0.692308  0.670881  0.596215  0.421968   \n",
              "1           1      2   0.34375  0.230769  0.304560  0.182965  0.504025   \n",
              "2           2      3   0.53125  0.538462  0.534520  0.419558  0.464814   \n",
              "3           3      4   0.77500  0.461538  0.678870  0.413249  0.391587   \n",
              "4           4      5   0.60000  0.461538  0.308790  0.435331  0.471306   \n",
              "\n",
              "         s4        s5  s6  ...       s13       s14       s15       s16    s17  \\\n",
              "0  0.282214  0.343328   1  ...  0.325581  0.152259  0.347076  0.698789  0.375   \n",
              "1  0.225240  0.573590   1  ...  0.395349  0.277907  0.227709  0.687998  0.500   \n",
              "2  0.346130  0.295640   1  ...  0.325581  0.192892  0.533557  0.457542  0.500   \n",
              "3  0.449867  0.385460   1  ...  0.372093  0.217896  0.282359  0.198790  0.250   \n",
              "4  0.357974  0.285285   1  ...  0.325581  0.187891  0.337009  0.398760  0.125   \n",
              "\n",
              "        s18       s19       s20       s21  RUL  \n",
              "0  0.567450  0.289574  0.500000  0.620099  142  \n",
              "1  0.378570  0.336740  0.645455  0.645718  141  \n",
              "2  0.357485  0.335740  0.700000  0.681104  140  \n",
              "3  0.227640  0.289430  0.627273  0.620382  139  \n",
              "4  0.297490  0.189750  0.618182  0.676008  138  \n",
              "\n",
              "[5 rows x 26 columns]"
            ],
            "text/html": [
              "\n",
              "  <div id=\"df-7e36ee5d-5895-48a7-8046-1e81d8a89daf\">\n",
              "    <div class=\"colab-df-container\">\n",
              "      <div>\n",
              "<style scoped>\n",
              "    .dataframe tbody tr th:only-of-type {\n",
              "        vertical-align: middle;\n",
              "    }\n",
              "\n",
              "    .dataframe tbody tr th {\n",
              "        vertical-align: top;\n",
              "    }\n",
              "\n",
              "    .dataframe thead th {\n",
              "        text-align: right;\n",
              "    }\n",
              "</style>\n",
              "<table border=\"1\" class=\"dataframe\">\n",
              "  <thead>\n",
              "    <tr style=\"text-align: right;\">\n",
              "      <th></th>\n",
              "      <th>Unnamed: 0</th>\n",
              "      <th>cycle</th>\n",
              "      <th>setting1</th>\n",
              "      <th>setting2</th>\n",
              "      <th>s1</th>\n",
              "      <th>s2</th>\n",
              "      <th>s3</th>\n",
              "      <th>s4</th>\n",
              "      <th>s5</th>\n",
              "      <th>s6</th>\n",
              "      <th>...</th>\n",
              "      <th>s13</th>\n",
              "      <th>s14</th>\n",
              "      <th>s15</th>\n",
              "      <th>s16</th>\n",
              "      <th>s17</th>\n",
              "      <th>s18</th>\n",
              "      <th>s19</th>\n",
              "      <th>s20</th>\n",
              "      <th>s21</th>\n",
              "      <th>RUL</th>\n",
              "    </tr>\n",
              "  </thead>\n",
              "  <tbody>\n",
              "    <tr>\n",
              "      <th>0</th>\n",
              "      <td>0</td>\n",
              "      <td>1</td>\n",
              "      <td>0.65625</td>\n",
              "      <td>0.692308</td>\n",
              "      <td>0.670881</td>\n",
              "      <td>0.596215</td>\n",
              "      <td>0.421968</td>\n",
              "      <td>0.282214</td>\n",
              "      <td>0.343328</td>\n",
              "      <td>1</td>\n",
              "      <td>...</td>\n",
              "      <td>0.325581</td>\n",
              "      <td>0.152259</td>\n",
              "      <td>0.347076</td>\n",
              "      <td>0.698789</td>\n",
              "      <td>0.375</td>\n",
              "      <td>0.567450</td>\n",
              "      <td>0.289574</td>\n",
              "      <td>0.500000</td>\n",
              "      <td>0.620099</td>\n",
              "      <td>142</td>\n",
              "    </tr>\n",
              "    <tr>\n",
              "      <th>1</th>\n",
              "      <td>1</td>\n",
              "      <td>2</td>\n",
              "      <td>0.34375</td>\n",
              "      <td>0.230769</td>\n",
              "      <td>0.304560</td>\n",
              "      <td>0.182965</td>\n",
              "      <td>0.504025</td>\n",
              "      <td>0.225240</td>\n",
              "      <td>0.573590</td>\n",
              "      <td>1</td>\n",
              "      <td>...</td>\n",
              "      <td>0.395349</td>\n",
              "      <td>0.277907</td>\n",
              "      <td>0.227709</td>\n",
              "      <td>0.687998</td>\n",
              "      <td>0.500</td>\n",
              "      <td>0.378570</td>\n",
              "      <td>0.336740</td>\n",
              "      <td>0.645455</td>\n",
              "      <td>0.645718</td>\n",
              "      <td>141</td>\n",
              "    </tr>\n",
              "    <tr>\n",
              "      <th>2</th>\n",
              "      <td>2</td>\n",
              "      <td>3</td>\n",
              "      <td>0.53125</td>\n",
              "      <td>0.538462</td>\n",
              "      <td>0.534520</td>\n",
              "      <td>0.419558</td>\n",
              "      <td>0.464814</td>\n",
              "      <td>0.346130</td>\n",
              "      <td>0.295640</td>\n",
              "      <td>1</td>\n",
              "      <td>...</td>\n",
              "      <td>0.325581</td>\n",
              "      <td>0.192892</td>\n",
              "      <td>0.533557</td>\n",
              "      <td>0.457542</td>\n",
              "      <td>0.500</td>\n",
              "      <td>0.357485</td>\n",
              "      <td>0.335740</td>\n",
              "      <td>0.700000</td>\n",
              "      <td>0.681104</td>\n",
              "      <td>140</td>\n",
              "    </tr>\n",
              "    <tr>\n",
              "      <th>3</th>\n",
              "      <td>3</td>\n",
              "      <td>4</td>\n",
              "      <td>0.77500</td>\n",
              "      <td>0.461538</td>\n",
              "      <td>0.678870</td>\n",
              "      <td>0.413249</td>\n",
              "      <td>0.391587</td>\n",
              "      <td>0.449867</td>\n",
              "      <td>0.385460</td>\n",
              "      <td>1</td>\n",
              "      <td>...</td>\n",
              "      <td>0.372093</td>\n",
              "      <td>0.217896</td>\n",
              "      <td>0.282359</td>\n",
              "      <td>0.198790</td>\n",
              "      <td>0.250</td>\n",
              "      <td>0.227640</td>\n",
              "      <td>0.289430</td>\n",
              "      <td>0.627273</td>\n",
              "      <td>0.620382</td>\n",
              "      <td>139</td>\n",
              "    </tr>\n",
              "    <tr>\n",
              "      <th>4</th>\n",
              "      <td>4</td>\n",
              "      <td>5</td>\n",
              "      <td>0.60000</td>\n",
              "      <td>0.461538</td>\n",
              "      <td>0.308790</td>\n",
              "      <td>0.435331</td>\n",
              "      <td>0.471306</td>\n",
              "      <td>0.357974</td>\n",
              "      <td>0.285285</td>\n",
              "      <td>1</td>\n",
              "      <td>...</td>\n",
              "      <td>0.325581</td>\n",
              "      <td>0.187891</td>\n",
              "      <td>0.337009</td>\n",
              "      <td>0.398760</td>\n",
              "      <td>0.125</td>\n",
              "      <td>0.297490</td>\n",
              "      <td>0.189750</td>\n",
              "      <td>0.618182</td>\n",
              "      <td>0.676008</td>\n",
              "      <td>138</td>\n",
              "    </tr>\n",
              "  </tbody>\n",
              "</table>\n",
              "<p>5 rows × 26 columns</p>\n",
              "</div>\n",
              "      <button class=\"colab-df-convert\" onclick=\"convertToInteractive('df-7e36ee5d-5895-48a7-8046-1e81d8a89daf')\"\n",
              "              title=\"Convert this dataframe to an interactive table.\"\n",
              "              style=\"display:none;\">\n",
              "        \n",
              "  <svg xmlns=\"http://www.w3.org/2000/svg\" height=\"24px\"viewBox=\"0 0 24 24\"\n",
              "       width=\"24px\">\n",
              "    <path d=\"M0 0h24v24H0V0z\" fill=\"none\"/>\n",
              "    <path d=\"M18.56 5.44l.94 2.06.94-2.06 2.06-.94-2.06-.94-.94-2.06-.94 2.06-2.06.94zm-11 1L8.5 8.5l.94-2.06 2.06-.94-2.06-.94L8.5 2.5l-.94 2.06-2.06.94zm10 10l.94 2.06.94-2.06 2.06-.94-2.06-.94-.94-2.06-.94 2.06-2.06.94z\"/><path d=\"M17.41 7.96l-1.37-1.37c-.4-.4-.92-.59-1.43-.59-.52 0-1.04.2-1.43.59L10.3 9.45l-7.72 7.72c-.78.78-.78 2.05 0 2.83L4 21.41c.39.39.9.59 1.41.59.51 0 1.02-.2 1.41-.59l7.78-7.78 2.81-2.81c.8-.78.8-2.07 0-2.86zM5.41 20L4 18.59l7.72-7.72 1.47 1.35L5.41 20z\"/>\n",
              "  </svg>\n",
              "      </button>\n",
              "      \n",
              "  <style>\n",
              "    .colab-df-container {\n",
              "      display:flex;\n",
              "      flex-wrap:wrap;\n",
              "      gap: 12px;\n",
              "    }\n",
              "\n",
              "    .colab-df-convert {\n",
              "      background-color: #E8F0FE;\n",
              "      border: none;\n",
              "      border-radius: 50%;\n",
              "      cursor: pointer;\n",
              "      display: none;\n",
              "      fill: #1967D2;\n",
              "      height: 32px;\n",
              "      padding: 0 0 0 0;\n",
              "      width: 32px;\n",
              "    }\n",
              "\n",
              "    .colab-df-convert:hover {\n",
              "      background-color: #E2EBFA;\n",
              "      box-shadow: 0px 1px 2px rgba(60, 64, 67, 0.3), 0px 1px 3px 1px rgba(60, 64, 67, 0.15);\n",
              "      fill: #174EA6;\n",
              "    }\n",
              "\n",
              "    [theme=dark] .colab-df-convert {\n",
              "      background-color: #3B4455;\n",
              "      fill: #D2E3FC;\n",
              "    }\n",
              "\n",
              "    [theme=dark] .colab-df-convert:hover {\n",
              "      background-color: #434B5C;\n",
              "      box-shadow: 0px 1px 3px 1px rgba(0, 0, 0, 0.15);\n",
              "      filter: drop-shadow(0px 1px 2px rgba(0, 0, 0, 0.3));\n",
              "      fill: #FFFFFF;\n",
              "    }\n",
              "  </style>\n",
              "\n",
              "      <script>\n",
              "        const buttonEl =\n",
              "          document.querySelector('#df-7e36ee5d-5895-48a7-8046-1e81d8a89daf button.colab-df-convert');\n",
              "        buttonEl.style.display =\n",
              "          google.colab.kernel.accessAllowed ? 'block' : 'none';\n",
              "\n",
              "        async function convertToInteractive(key) {\n",
              "          const element = document.querySelector('#df-7e36ee5d-5895-48a7-8046-1e81d8a89daf');\n",
              "          const dataTable =\n",
              "            await google.colab.kernel.invokeFunction('convertToInteractive',\n",
              "                                                     [key], {});\n",
              "          if (!dataTable) return;\n",
              "\n",
              "          const docLinkHtml = 'Like what you see? Visit the ' +\n",
              "            '<a target=\"_blank\" href=https://colab.research.google.com/notebooks/data_table.ipynb>data table notebook</a>'\n",
              "            + ' to learn more about interactive tables.';\n",
              "          element.innerHTML = '';\n",
              "          dataTable['output_type'] = 'display_data';\n",
              "          await google.colab.output.renderOutput(dataTable, element);\n",
              "          const docLink = document.createElement('div');\n",
              "          docLink.innerHTML = docLinkHtml;\n",
              "          element.appendChild(docLink);\n",
              "        }\n",
              "      </script>\n",
              "    </div>\n",
              "  </div>\n",
              "  "
            ]
          },
          "metadata": {},
          "execution_count": 23
        }
      ]
    },
    {
      "cell_type": "code",
      "source": [
        "data.dropna(inplace = True)"
      ],
      "metadata": {
        "id": "Vn_GZcXKmeFj"
      },
      "execution_count": null,
      "outputs": []
    },
    {
      "cell_type": "code",
      "source": [
        "sns.heatmap(data.isnull())"
      ],
      "metadata": {
        "colab": {
          "base_uri": "https://localhost:8080/",
          "height": 337
        },
        "id": "h1E13gYBmo_L",
        "outputId": "103ccb2c-ca9a-4df3-d881-2558ce56fdd0"
      },
      "execution_count": null,
      "outputs": [
        {
          "output_type": "execute_result",
          "data": {
            "text/plain": [
              "<matplotlib.axes._subplots.AxesSubplot at 0x7f9be935dd90>"
            ]
          },
          "metadata": {},
          "execution_count": 25
        },
        {
          "output_type": "display_data",
          "data": {
            "text/plain": [
              "<Figure size 432x288 with 2 Axes>"
            ],
            "image/png": "[encoded data removed]"
          },
          "metadata": {
            "needs_background": "light"
          }
        }
      ]
    },
    {
      "cell_type": "code",
      "source": [
        "data.isnull().sum()"
      ],
      "metadata": {
        "colab": {
          "base_uri": "https://localhost:8080/"
        },
        "id": "dYoPr4V3mxaj",
        "outputId": "bcfcc069-da87-4d7e-99cf-480be51f6b34"
      },
      "execution_count": null,
      "outputs": [
        {
          "output_type": "execute_result",
          "data": {
            "text/plain": [
              "Unnamed: 0    0\n",
              "cycle         0\n",
              "setting1      0\n",
              "setting2      0\n",
              "s1            0\n",
              "s2            0\n",
              "s3            0\n",
              "s4            0\n",
              "s5            0\n",
              "s6            0\n",
              "s7            0\n",
              "s8            0\n",
              "s9            0\n",
              "s10           0\n",
              "s11           0\n",
              "s12           0\n",
              "s13           0\n",
              "s14           0\n",
              "s15           0\n",
              "s16           0\n",
              "s17           0\n",
              "s18           0\n",
              "s19           0\n",
              "s20           0\n",
              "s21           0\n",
              "RUL           0\n",
              "dtype: int64"
            ]
          },
          "metadata": {},
          "execution_count": 26
        }
      ]
    },
    {
      "cell_type": "code",
      "source": [
        "pd.get_dummies(data['cycle'], drop_first = True)"
      ],
      "metadata": {
        "colab": {
          "base_uri": "https://localhost:8080/",
          "height": 206
        },
        "id": "dRwlQ4zmm8eD",
        "outputId": "cee26269-8f6c-43ee-b0fc-1fcfdf6c367e"
      },
      "execution_count": null,
      "outputs": [
        {
          "output_type": "execute_result",
          "data": {
            "text/plain": [
              "   2  3  4  5\n",
              "0  0  0  0  0\n",
              "1  1  0  0  0\n",
              "2  0  1  0  0\n",
              "3  0  0  1  0\n",
              "4  0  0  0  1"
            ],
            "text/html": [
              "\n",
              "  <div id=\"df-5d68a420-de4e-4dfc-9b37-300a7a239772\">\n",
              "    <div class=\"colab-df-container\">\n",
              "      <div>\n",
              "<style scoped>\n",
              "    .dataframe tbody tr th:only-of-type {\n",
              "        vertical-align: middle;\n",
              "    }\n",
              "\n",
              "    .dataframe tbody tr th {\n",
              "        vertical-align: top;\n",
              "    }\n",
              "\n",
              "    .dataframe thead th {\n",
              "        text-align: right;\n",
              "    }\n",
              "</style>\n",
              "<table border=\"1\" class=\"dataframe\">\n",
              "  <thead>\n",
              "    <tr style=\"text-align: right;\">\n",
              "      <th></th>\n",
              "      <th>2</th>\n",
              "      <th>3</th>\n",
              "      <th>4</th>\n",
              "      <th>5</th>\n",
              "    </tr>\n",
              "  </thead>\n",
              "  <tbody>\n",
              "    <tr>\n",
              "      <th>0</th>\n",
              "      <td>0</td>\n",
              "      <td>0</td>\n",
              "      <td>0</td>\n",
              "      <td>0</td>\n",
              "    </tr>\n",
              "    <tr>\n",
              "      <th>1</th>\n",
              "      <td>1</td>\n",
              "      <td>0</td>\n",
              "      <td>0</td>\n",
              "      <td>0</td>\n",
              "    </tr>\n",
              "    <tr>\n",
              "      <th>2</th>\n",
              "      <td>0</td>\n",
              "      <td>1</td>\n",
              "      <td>0</td>\n",
              "      <td>0</td>\n",
              "    </tr>\n",
              "    <tr>\n",
              "      <th>3</th>\n",
              "      <td>0</td>\n",
              "      <td>0</td>\n",
              "      <td>1</td>\n",
              "      <td>0</td>\n",
              "    </tr>\n",
              "    <tr>\n",
              "      <th>4</th>\n",
              "      <td>0</td>\n",
              "      <td>0</td>\n",
              "      <td>0</td>\n",
              "      <td>1</td>\n",
              "    </tr>\n",
              "  </tbody>\n",
              "</table>\n",
              "</div>\n",
              "      <button class=\"colab-df-convert\" onclick=\"convertToInteractive('df-5d68a420-de4e-4dfc-9b37-300a7a239772')\"\n",
              "              title=\"Convert this dataframe to an interactive table.\"\n",
              "              style=\"display:none;\">\n",
              "        \n",
              "  <svg xmlns=\"http://www.w3.org/2000/svg\" height=\"24px\"viewBox=\"0 0 24 24\"\n",
              "       width=\"24px\">\n",
              "    <path d=\"M0 0h24v24H0V0z\" fill=\"none\"/>\n",
              "    <path d=\"M18.56 5.44l.94 2.06.94-2.06 2.06-.94-2.06-.94-.94-2.06-.94 2.06-2.06.94zm-11 1L8.5 8.5l.94-2.06 2.06-.94-2.06-.94L8.5 2.5l-.94 2.06-2.06.94zm10 10l.94 2.06.94-2.06 2.06-.94-2.06-.94-.94-2.06-.94 2.06-2.06.94z\"/><path d=\"M17.41 7.96l-1.37-1.37c-.4-.4-.92-.59-1.43-.59-.52 0-1.04.2-1.43.59L10.3 9.45l-7.72 7.72c-.78.78-.78 2.05 0 2.83L4 21.41c.39.39.9.59 1.41.59.51 0 1.02-.2 1.41-.59l7.78-7.78 2.81-2.81c.8-.78.8-2.07 0-2.86zM5.41 20L4 18.59l7.72-7.72 1.47 1.35L5.41 20z\"/>\n",
              "  </svg>\n",
              "      </button>\n",
              "      \n",
              "  <style>\n",
              "    .colab-df-container {\n",
              "      display:flex;\n",
              "      flex-wrap:wrap;\n",
              "      gap: 12px;\n",
              "    }\n",
              "\n",
              "    .colab-df-convert {\n",
              "      background-color: #E8F0FE;\n",
              "      border: none;\n",
              "      border-radius: 50%;\n",
              "      cursor: pointer;\n",
              "      display: none;\n",
              "      fill: #1967D2;\n",
              "      height: 32px;\n",
              "      padding: 0 0 0 0;\n",
              "      width: 32px;\n",
              "    }\n",
              "\n",
              "    .colab-df-convert:hover {\n",
              "      background-color: #E2EBFA;\n",
              "      box-shadow: 0px 1px 2px rgba(60, 64, 67, 0.3), 0px 1px 3px 1px rgba(60, 64, 67, 0.15);\n",
              "      fill: #174EA6;\n",
              "    }\n",
              "\n",
              "    [theme=dark] .colab-df-convert {\n",
              "      background-color: #3B4455;\n",
              "      fill: #D2E3FC;\n",
              "    }\n",
              "\n",
              "    [theme=dark] .colab-df-convert:hover {\n",
              "      background-color: #434B5C;\n",
              "      box-shadow: 0px 1px 3px 1px rgba(0, 0, 0, 0.15);\n",
              "      filter: drop-shadow(0px 1px 2px rgba(0, 0, 0, 0.3));\n",
              "      fill: #FFFFFF;\n",
              "    }\n",
              "  </style>\n",
              "\n",
              "      <script>\n",
              "        const buttonEl =\n",
              "          document.querySelector('#df-5d68a420-de4e-4dfc-9b37-300a7a239772 button.colab-df-convert');\n",
              "        buttonEl.style.display =\n",
              "          google.colab.kernel.accessAllowed ? 'block' : 'none';\n",
              "\n",
              "        async function convertToInteractive(key) {\n",
              "          const element = document.querySelector('#df-5d68a420-de4e-4dfc-9b37-300a7a239772');\n",
              "          const dataTable =\n",
              "            await google.colab.kernel.invokeFunction('convertToInteractive',\n",
              "                                                     [key], {});\n",
              "          if (!dataTable) return;\n",
              "\n",
              "          const docLinkHtml = 'Like what you see? Visit the ' +\n",
              "            '<a target=\"_blank\" href=https://colab.research.google.com/notebooks/data_table.ipynb>data table notebook</a>'\n",
              "            + ' to learn more about interactive tables.';\n",
              "          element.innerHTML = '';\n",
              "          dataTable['output_type'] = 'display_data';\n",
              "          await google.colab.output.renderOutput(dataTable, element);\n",
              "          const docLink = document.createElement('div');\n",
              "          docLink.innerHTML = docLinkHtml;\n",
              "          element.appendChild(docLink);\n",
              "        }\n",
              "      </script>\n",
              "    </div>\n",
              "  </div>\n",
              "  "
            ]
          },
          "metadata": {},
          "execution_count": 27
        }
      ]
    },
    {
      "cell_type": "code",
      "source": [
        "setting = pd.get_dummies(data[\"s1\"])"
      ],
      "metadata": {
        "id": "CPi17YZyonJT"
      },
      "execution_count": null,
      "outputs": []
    },
    {
      "cell_type": "code",
      "source": [
        "setting.head()"
      ],
      "metadata": {
        "colab": {
          "base_uri": "https://localhost:8080/",
          "height": 206
        },
        "id": "-nwbiq-ro2xH",
        "outputId": "374f9c70-214a-4a7d-8810-1521fa907bcf"
      },
      "execution_count": null,
      "outputs": [
        {
          "output_type": "execute_result",
          "data": {
            "text/plain": [
              "   0.304560  0.308790  0.534520  0.670881  0.678870\n",
              "0         0         0         0         1         0\n",
              "1         1         0         0         0         0\n",
              "2         0         0         1         0         0\n",
              "3         0         0         0         0         1\n",
              "4         0         1         0         0         0"
            ],
            "text/html": [
              "\n",
              "  <div id=\"df-3e131487-afa5-4254-97fe-fe4ca3a5b40e\">\n",
              "    <div class=\"colab-df-container\">\n",
              "      <div>\n",
              "<style scoped>\n",
              "    .dataframe tbody tr th:only-of-type {\n",
              "        vertical-align: middle;\n",
              "    }\n",
              "\n",
              "    .dataframe tbody tr th {\n",
              "        vertical-align: top;\n",
              "    }\n",
              "\n",
              "    .dataframe thead th {\n",
              "        text-align: right;\n",
              "    }\n",
              "</style>\n",
              "<table border=\"1\" class=\"dataframe\">\n",
              "  <thead>\n",
              "    <tr style=\"text-align: right;\">\n",
              "      <th></th>\n",
              "      <th>0.304560</th>\n",
              "      <th>0.308790</th>\n",
              "      <th>0.534520</th>\n",
              "      <th>0.670881</th>\n",
              "      <th>0.678870</th>\n",
              "    </tr>\n",
              "  </thead>\n",
              "  <tbody>\n",
              "    <tr>\n",
              "      <th>0</th>\n",
              "      <td>0</td>\n",
              "      <td>0</td>\n",
              "      <td>0</td>\n",
              "      <td>1</td>\n",
              "      <td>0</td>\n",
              "    </tr>\n",
              "    <tr>\n",
              "      <th>1</th>\n",
              "      <td>1</td>\n",
              "      <td>0</td>\n",
              "      <td>0</td>\n",
              "      <td>0</td>\n",
              "      <td>0</td>\n",
              "    </tr>\n",
              "    <tr>\n",
              "      <th>2</th>\n",
              "      <td>0</td>\n",
              "      <td>0</td>\n",
              "      <td>1</td>\n",
              "      <td>0</td>\n",
              "      <td>0</td>\n",
              "    </tr>\n",
              "    <tr>\n",
              "      <th>3</th>\n",
              "      <td>0</td>\n",
              "      <td>0</td>\n",
              "      <td>0</td>\n",
              "      <td>0</td>\n",
              "      <td>1</td>\n",
              "    </tr>\n",
              "    <tr>\n",
              "      <th>4</th>\n",
              "      <td>0</td>\n",
              "      <td>1</td>\n",
              "      <td>0</td>\n",
              "      <td>0</td>\n",
              "      <td>0</td>\n",
              "    </tr>\n",
              "  </tbody>\n",
              "</table>\n",
              "</div>\n",
              "      <button class=\"colab-df-convert\" onclick=\"convertToInteractive('df-3e131487-afa5-4254-97fe-fe4ca3a5b40e')\"\n",
              "              title=\"Convert this dataframe to an interactive table.\"\n",
              "              style=\"display:none;\">\n",
              "        \n",
              "  <svg xmlns=\"http://www.w3.org/2000/svg\" height=\"24px\"viewBox=\"0 0 24 24\"\n",
              "       width=\"24px\">\n",
              "    <path d=\"M0 0h24v24H0V0z\" fill=\"none\"/>\n",
              "    <path d=\"M18.56 5.44l.94 2.06.94-2.06 2.06-.94-2.06-.94-.94-2.06-.94 2.06-2.06.94zm-11 1L8.5 8.5l.94-2.06 2.06-.94-2.06-.94L8.5 2.5l-.94 2.06-2.06.94zm10 10l.94 2.06.94-2.06 2.06-.94-2.06-.94-.94-2.06-.94 2.06-2.06.94z\"/><path d=\"M17.41 7.96l-1.37-1.37c-.4-.4-.92-.59-1.43-.59-.52 0-1.04.2-1.43.59L10.3 9.45l-7.72 7.72c-.78.78-.78 2.05 0 2.83L4 21.41c.39.39.9.59 1.41.59.51 0 1.02-.2 1.41-.59l7.78-7.78 2.81-2.81c.8-.78.8-2.07 0-2.86zM5.41 20L4 18.59l7.72-7.72 1.47 1.35L5.41 20z\"/>\n",
              "  </svg>\n",
              "      </button>\n",
              "      \n",
              "  <style>\n",
              "    .colab-df-container {\n",
              "      display:flex;\n",
              "      flex-wrap:wrap;\n",
              "      gap: 12px;\n",
              "    }\n",
              "\n",
              "    .colab-df-convert {\n",
              "      background-color: #E8F0FE;\n",
              "      border: none;\n",
              "      border-radius: 50%;\n",
              "      cursor: pointer;\n",
              "      display: none;\n",
              "      fill: #1967D2;\n",
              "      height: 32px;\n",
              "      padding: 0 0 0 0;\n",
              "      width: 32px;\n",
              "    }\n",
              "\n",
              "    .colab-df-convert:hover {\n",
              "      background-color: #E2EBFA;\n",
              "      box-shadow: 0px 1px 2px rgba(60, 64, 67, 0.3), 0px 1px 3px 1px rgba(60, 64, 67, 0.15);\n",
              "      fill: #174EA6;\n",
              "    }\n",
              "\n",
              "    [theme=dark] .colab-df-convert {\n",
              "      background-color: #3B4455;\n",
              "      fill: #D2E3FC;\n",
              "    }\n",
              "\n",
              "    [theme=dark] .colab-df-convert:hover {\n",
              "      background-color: #434B5C;\n",
              "      box-shadow: 0px 1px 3px 1px rgba(0, 0, 0, 0.15);\n",
              "      filter: drop-shadow(0px 1px 2px rgba(0, 0, 0, 0.3));\n",
              "      fill: #FFFFFF;\n",
              "    }\n",
              "  </style>\n",
              "\n",
              "      <script>\n",
              "        const buttonEl =\n",
              "          document.querySelector('#df-3e131487-afa5-4254-97fe-fe4ca3a5b40e button.colab-df-convert');\n",
              "        buttonEl.style.display =\n",
              "          google.colab.kernel.accessAllowed ? 'block' : 'none';\n",
              "\n",
              "        async function convertToInteractive(key) {\n",
              "          const element = document.querySelector('#df-3e131487-afa5-4254-97fe-fe4ca3a5b40e');\n",
              "          const dataTable =\n",
              "            await google.colab.kernel.invokeFunction('convertToInteractive',\n",
              "                                                     [key], {});\n",
              "          if (!dataTable) return;\n",
              "\n",
              "          const docLinkHtml = 'Like what you see? Visit the ' +\n",
              "            '<a target=\"_blank\" href=https://colab.research.google.com/notebooks/data_table.ipynb>data table notebook</a>'\n",
              "            + ' to learn more about interactive tables.';\n",
              "          element.innerHTML = '';\n",
              "          dataTable['output_type'] = 'display_data';\n",
              "          await google.colab.output.renderOutput(dataTable, element);\n",
              "          const docLink = document.createElement('div');\n",
              "          docLink.innerHTML = docLinkHtml;\n",
              "          element.appendChild(docLink);\n",
              "        }\n",
              "      </script>\n",
              "    </div>\n",
              "  </div>\n",
              "  "
            ]
          },
          "metadata": {},
          "execution_count": 29
        }
      ]
    },
    {
      "cell_type": "code",
      "source": [
        "rul = pd.get_dummies(data[\"RUL\"])"
      ],
      "metadata": {
        "id": "0Ux9xYsko_2u"
      },
      "execution_count": null,
      "outputs": []
    },
    {
      "cell_type": "code",
      "source": [
        "rul.head()"
      ],
      "metadata": {
        "colab": {
          "base_uri": "https://localhost:8080/",
          "height": 206
        },
        "id": "rYizeMrrpPm6",
        "outputId": "71d9a175-bf52-435b-eb1f-bd94f01f05da"
      },
      "execution_count": null,
      "outputs": [
        {
          "output_type": "execute_result",
          "data": {
            "text/plain": [
              "   138  139  140  141  142\n",
              "0    0    0    0    0    1\n",
              "1    0    0    0    1    0\n",
              "2    0    0    1    0    0\n",
              "3    0    1    0    0    0\n",
              "4    1    0    0    0    0"
            ],
            "text/html": [
              "\n",
              "  <div id=\"df-995d6545-79a9-4255-b09a-b5a1877bf010\">\n",
              "    <div class=\"colab-df-container\">\n",
              "      <div>\n",
              "<style scoped>\n",
              "    .dataframe tbody tr th:only-of-type {\n",
              "        vertical-align: middle;\n",
              "    }\n",
              "\n",
              "    .dataframe tbody tr th {\n",
              "        vertical-align: top;\n",
              "    }\n",
              "\n",
              "    .dataframe thead th {\n",
              "        text-align: right;\n",
              "    }\n",
              "</style>\n",
              "<table border=\"1\" class=\"dataframe\">\n",
              "  <thead>\n",
              "    <tr style=\"text-align: right;\">\n",
              "      <th></th>\n",
              "      <th>138</th>\n",
              "      <th>139</th>\n",
              "      <th>140</th>\n",
              "      <th>141</th>\n",
              "      <th>142</th>\n",
              "    </tr>\n",
              "  </thead>\n",
              "  <tbody>\n",
              "    <tr>\n",
              "      <th>0</th>\n",
              "      <td>0</td>\n",
              "      <td>0</td>\n",
              "      <td>0</td>\n",
              "      <td>0</td>\n",
              "      <td>1</td>\n",
              "    </tr>\n",
              "    <tr>\n",
              "      <th>1</th>\n",
              "      <td>0</td>\n",
              "      <td>0</td>\n",
              "      <td>0</td>\n",
              "      <td>1</td>\n",
              "      <td>0</td>\n",
              "    </tr>\n",
              "    <tr>\n",
              "      <th>2</th>\n",
              "      <td>0</td>\n",
              "      <td>0</td>\n",
              "      <td>1</td>\n",
              "      <td>0</td>\n",
              "      <td>0</td>\n",
              "    </tr>\n",
              "    <tr>\n",
              "      <th>3</th>\n",
              "      <td>0</td>\n",
              "      <td>1</td>\n",
              "      <td>0</td>\n",
              "      <td>0</td>\n",
              "      <td>0</td>\n",
              "    </tr>\n",
              "    <tr>\n",
              "      <th>4</th>\n",
              "      <td>1</td>\n",
              "      <td>0</td>\n",
              "      <td>0</td>\n",
              "      <td>0</td>\n",
              "      <td>0</td>\n",
              "    </tr>\n",
              "  </tbody>\n",
              "</table>\n",
              "</div>\n",
              "      <button class=\"colab-df-convert\" onclick=\"convertToInteractive('df-995d6545-79a9-4255-b09a-b5a1877bf010')\"\n",
              "              title=\"Convert this dataframe to an interactive table.\"\n",
              "              style=\"display:none;\">\n",
              "        \n",
              "  <svg xmlns=\"http://www.w3.org/2000/svg\" height=\"24px\"viewBox=\"0 0 24 24\"\n",
              "       width=\"24px\">\n",
              "    <path d=\"M0 0h24v24H0V0z\" fill=\"none\"/>\n",
              "    <path d=\"M18.56 5.44l.94 2.06.94-2.06 2.06-.94-2.06-.94-.94-2.06-.94 2.06-2.06.94zm-11 1L8.5 8.5l.94-2.06 2.06-.94-2.06-.94L8.5 2.5l-.94 2.06-2.06.94zm10 10l.94 2.06.94-2.06 2.06-.94-2.06-.94-.94-2.06-.94 2.06-2.06.94z\"/><path d=\"M17.41 7.96l-1.37-1.37c-.4-.4-.92-.59-1.43-.59-.52 0-1.04.2-1.43.59L10.3 9.45l-7.72 7.72c-.78.78-.78 2.05 0 2.83L4 21.41c.39.39.9.59 1.41.59.51 0 1.02-.2 1.41-.59l7.78-7.78 2.81-2.81c.8-.78.8-2.07 0-2.86zM5.41 20L4 18.59l7.72-7.72 1.47 1.35L5.41 20z\"/>\n",
              "  </svg>\n",
              "      </button>\n",
              "      \n",
              "  <style>\n",
              "    .colab-df-container {\n",
              "      display:flex;\n",
              "      flex-wrap:wrap;\n",
              "      gap: 12px;\n",
              "    }\n",
              "\n",
              "    .colab-df-convert {\n",
              "      background-color: #E8F0FE;\n",
              "      border: none;\n",
              "      border-radius: 50%;\n",
              "      cursor: pointer;\n",
              "      display: none;\n",
              "      fill: #1967D2;\n",
              "      height: 32px;\n",
              "      padding: 0 0 0 0;\n",
              "      width: 32px;\n",
              "    }\n",
              "\n",
              "    .colab-df-convert:hover {\n",
              "      background-color: #E2EBFA;\n",
              "      box-shadow: 0px 1px 2px rgba(60, 64, 67, 0.3), 0px 1px 3px 1px rgba(60, 64, 67, 0.15);\n",
              "      fill: #174EA6;\n",
              "    }\n",
              "\n",
              "    [theme=dark] .colab-df-convert {\n",
              "      background-color: #3B4455;\n",
              "      fill: #D2E3FC;\n",
              "    }\n",
              "\n",
              "    [theme=dark] .colab-df-convert:hover {\n",
              "      background-color: #434B5C;\n",
              "      box-shadow: 0px 1px 3px 1px rgba(0, 0, 0, 0.15);\n",
              "      filter: drop-shadow(0px 1px 2px rgba(0, 0, 0, 0.3));\n",
              "      fill: #FFFFFF;\n",
              "    }\n",
              "  </style>\n",
              "\n",
              "      <script>\n",
              "        const buttonEl =\n",
              "          document.querySelector('#df-995d6545-79a9-4255-b09a-b5a1877bf010 button.colab-df-convert');\n",
              "        buttonEl.style.display =\n",
              "          google.colab.kernel.accessAllowed ? 'block' : 'none';\n",
              "\n",
              "        async function convertToInteractive(key) {\n",
              "          const element = document.querySelector('#df-995d6545-79a9-4255-b09a-b5a1877bf010');\n",
              "          const dataTable =\n",
              "            await google.colab.kernel.invokeFunction('convertToInteractive',\n",
              "                                                     [key], {});\n",
              "          if (!dataTable) return;\n",
              "\n",
              "          const docLinkHtml = 'Like what you see? Visit the ' +\n",
              "            '<a target=\"_blank\" href=https://colab.research.google.com/notebooks/data_table.ipynb>data table notebook</a>'\n",
              "            + ' to learn more about interactive tables.';\n",
              "          element.innerHTML = '';\n",
              "          dataTable['output_type'] = 'display_data';\n",
              "          await google.colab.output.renderOutput(dataTable, element);\n",
              "          const docLink = document.createElement('div');\n",
              "          docLink.innerHTML = docLinkHtml;\n",
              "          element.appendChild(docLink);\n",
              "        }\n",
              "      </script>\n",
              "    </div>\n",
              "  </div>\n",
              "  "
            ]
          },
          "metadata": {},
          "execution_count": 31
        }
      ]
    },
    {
      "cell_type": "code",
      "source": [
        "#data = pd.concat([data, setting, rul], axis = 1)"
      ],
      "metadata": {
        "id": "4XOJMu0zpVyC"
      },
      "execution_count": null,
      "outputs": []
    },
    {
      "cell_type": "code",
      "source": [
        "data.head()"
      ],
      "metadata": {
        "colab": {
          "base_uri": "https://localhost:8080/",
          "height": 317
        },
        "id": "x7BXTweCp8xD",
        "outputId": "9c3d9163-8e18-48db-fa5d-5e1f016e93d9"
      },
      "execution_count": null,
      "outputs": [
        {
          "output_type": "execute_result",
          "data": {
            "text/plain": [
              "   Unnamed: 0  cycle  setting1  setting2        s1        s2        s3  \\\n",
              "0           0      1   0.65625  0.692308  0.670881  0.596215  0.421968   \n",
              "1           1      2   0.34375  0.230769  0.304560  0.182965  0.504025   \n",
              "2           2      3   0.53125  0.538462  0.534520  0.419558  0.464814   \n",
              "3           3      4   0.77500  0.461538  0.678870  0.413249  0.391587   \n",
              "4           4      5   0.60000  0.461538  0.308790  0.435331  0.471306   \n",
              "\n",
              "         s4        s5  s6  ...       s13       s14       s15       s16    s17  \\\n",
              "0  0.282214  0.343328   1  ...  0.325581  0.152259  0.347076  0.698789  0.375   \n",
              "1  0.225240  0.573590   1  ...  0.395349  0.277907  0.227709  0.687998  0.500   \n",
              "2  0.346130  0.295640   1  ...  0.325581  0.192892  0.533557  0.457542  0.500   \n",
              "3  0.449867  0.385460   1  ...  0.372093  0.217896  0.282359  0.198790  0.250   \n",
              "4  0.357974  0.285285   1  ...  0.325581  0.187891  0.337009  0.398760  0.125   \n",
              "\n",
              "        s18       s19       s20       s21  RUL  \n",
              "0  0.567450  0.289574  0.500000  0.620099  142  \n",
              "1  0.378570  0.336740  0.645455  0.645718  141  \n",
              "2  0.357485  0.335740  0.700000  0.681104  140  \n",
              "3  0.227640  0.289430  0.627273  0.620382  139  \n",
              "4  0.297490  0.189750  0.618182  0.676008  138  \n",
              "\n",
              "[5 rows x 26 columns]"
            ],
            "text/html": [
              "\n",
              "  <div id=\"df-e42a7883-402e-41c2-8d72-76350dfb8df8\">\n",
              "    <div class=\"colab-df-container\">\n",
              "      <div>\n",
              "<style scoped>\n",
              "    .dataframe tbody tr th:only-of-type {\n",
              "        vertical-align: middle;\n",
              "    }\n",
              "\n",
              "    .dataframe tbody tr th {\n",
              "        vertical-align: top;\n",
              "    }\n",
              "\n",
              "    .dataframe thead th {\n",
              "        text-align: right;\n",
              "    }\n",
              "</style>\n",
              "<table border=\"1\" class=\"dataframe\">\n",
              "  <thead>\n",
              "    <tr style=\"text-align: right;\">\n",
              "      <th></th>\n",
              "      <th>Unnamed: 0</th>\n",
              "      <th>cycle</th>\n",
              "      <th>setting1</th>\n",
              "      <th>setting2</th>\n",
              "      <th>s1</th>\n",
              "      <th>s2</th>\n",
              "      <th>s3</th>\n",
              "      <th>s4</th>\n",
              "      <th>s5</th>\n",
              "      <th>s6</th>\n",
              "      <th>...</th>\n",
              "      <th>s13</th>\n",
              "      <th>s14</th>\n",
              "      <th>s15</th>\n",
              "      <th>s16</th>\n",
              "      <th>s17</th>\n",
              "      <th>s18</th>\n",
              "      <th>s19</th>\n",
              "      <th>s20</th>\n",
              "      <th>s21</th>\n",
              "      <th>RUL</th>\n",
              "    </tr>\n",
              "  </thead>\n",
              "  <tbody>\n",
              "    <tr>\n",
              "      <th>0</th>\n",
              "      <td>0</td>\n",
              "      <td>1</td>\n",
              "      <td>0.65625</td>\n",
              "      <td>0.692308</td>\n",
              "      <td>0.670881</td>\n",
              "      <td>0.596215</td>\n",
              "      <td>0.421968</td>\n",
              "      <td>0.282214</td>\n",
              "      <td>0.343328</td>\n",
              "      <td>1</td>\n",
              "      <td>...</td>\n",
              "      <td>0.325581</td>\n",
              "      <td>0.152259</td>\n",
              "      <td>0.347076</td>\n",
              "      <td>0.698789</td>\n",
              "      <td>0.375</td>\n",
              "      <td>0.567450</td>\n",
              "      <td>0.289574</td>\n",
              "      <td>0.500000</td>\n",
              "      <td>0.620099</td>\n",
              "      <td>142</td>\n",
              "    </tr>\n",
              "    <tr>\n",
              "      <th>1</th>\n",
              "      <td>1</td>\n",
              "      <td>2</td>\n",
              "      <td>0.34375</td>\n",
              "      <td>0.230769</td>\n",
              "      <td>0.304560</td>\n",
              "      <td>0.182965</td>\n",
              "      <td>0.504025</td>\n",
              "      <td>0.225240</td>\n",
              "      <td>0.573590</td>\n",
              "      <td>1</td>\n",
              "      <td>...</td>\n",
              "      <td>0.395349</td>\n",
              "      <td>0.277907</td>\n",
              "      <td>0.227709</td>\n",
              "      <td>0.687998</td>\n",
              "      <td>0.500</td>\n",
              "      <td>0.378570</td>\n",
              "      <td>0.336740</td>\n",
              "      <td>0.645455</td>\n",
              "      <td>0.645718</td>\n",
              "      <td>141</td>\n",
              "    </tr>\n",
              "    <tr>\n",
              "      <th>2</th>\n",
              "      <td>2</td>\n",
              "      <td>3</td>\n",
              "      <td>0.53125</td>\n",
              "      <td>0.538462</td>\n",
              "      <td>0.534520</td>\n",
              "      <td>0.419558</td>\n",
              "      <td>0.464814</td>\n",
              "      <td>0.346130</td>\n",
              "      <td>0.295640</td>\n",
              "      <td>1</td>\n",
              "      <td>...</td>\n",
              "      <td>0.325581</td>\n",
              "      <td>0.192892</td>\n",
              "      <td>0.533557</td>\n",
              "      <td>0.457542</td>\n",
              "      <td>0.500</td>\n",
              "      <td>0.357485</td>\n",
              "      <td>0.335740</td>\n",
              "      <td>0.700000</td>\n",
              "      <td>0.681104</td>\n",
              "      <td>140</td>\n",
              "    </tr>\n",
              "    <tr>\n",
              "      <th>3</th>\n",
              "      <td>3</td>\n",
              "      <td>4</td>\n",
              "      <td>0.77500</td>\n",
              "      <td>0.461538</td>\n",
              "      <td>0.678870</td>\n",
              "      <td>0.413249</td>\n",
              "      <td>0.391587</td>\n",
              "      <td>0.449867</td>\n",
              "      <td>0.385460</td>\n",
              "      <td>1</td>\n",
              "      <td>...</td>\n",
              "      <td>0.372093</td>\n",
              "      <td>0.217896</td>\n",
              "      <td>0.282359</td>\n",
              "      <td>0.198790</td>\n",
              "      <td>0.250</td>\n",
              "      <td>0.227640</td>\n",
              "      <td>0.289430</td>\n",
              "      <td>0.627273</td>\n",
              "      <td>0.620382</td>\n",
              "      <td>139</td>\n",
              "    </tr>\n",
              "    <tr>\n",
              "      <th>4</th>\n",
              "      <td>4</td>\n",
              "      <td>5</td>\n",
              "      <td>0.60000</td>\n",
              "      <td>0.461538</td>\n",
              "      <td>0.308790</td>\n",
              "      <td>0.435331</td>\n",
              "      <td>0.471306</td>\n",
              "      <td>0.357974</td>\n",
              "      <td>0.285285</td>\n",
              "      <td>1</td>\n",
              "      <td>...</td>\n",
              "      <td>0.325581</td>\n",
              "      <td>0.187891</td>\n",
              "      <td>0.337009</td>\n",
              "      <td>0.398760</td>\n",
              "      <td>0.125</td>\n",
              "      <td>0.297490</td>\n",
              "      <td>0.189750</td>\n",
              "      <td>0.618182</td>\n",
              "      <td>0.676008</td>\n",
              "      <td>138</td>\n",
              "    </tr>\n",
              "  </tbody>\n",
              "</table>\n",
              "<p>5 rows × 26 columns</p>\n",
              "</div>\n",
              "      <button class=\"colab-df-convert\" onclick=\"convertToInteractive('df-e42a7883-402e-41c2-8d72-76350dfb8df8')\"\n",
              "              title=\"Convert this dataframe to an interactive table.\"\n",
              "              style=\"display:none;\">\n",
              "        \n",
              "  <svg xmlns=\"http://www.w3.org/2000/svg\" height=\"24px\"viewBox=\"0 0 24 24\"\n",
              "       width=\"24px\">\n",
              "    <path d=\"M0 0h24v24H0V0z\" fill=\"none\"/>\n",
              "    <path d=\"M18.56 5.44l.94 2.06.94-2.06 2.06-.94-2.06-.94-.94-2.06-.94 2.06-2.06.94zm-11 1L8.5 8.5l.94-2.06 2.06-.94-2.06-.94L8.5 2.5l-.94 2.06-2.06.94zm10 10l.94 2.06.94-2.06 2.06-.94-2.06-.94-.94-2.06-.94 2.06-2.06.94z\"/><path d=\"M17.41 7.96l-1.37-1.37c-.4-.4-.92-.59-1.43-.59-.52 0-1.04.2-1.43.59L10.3 9.45l-7.72 7.72c-.78.78-.78 2.05 0 2.83L4 21.41c.39.39.9.59 1.41.59.51 0 1.02-.2 1.41-.59l7.78-7.78 2.81-2.81c.8-.78.8-2.07 0-2.86zM5.41 20L4 18.59l7.72-7.72 1.47 1.35L5.41 20z\"/>\n",
              "  </svg>\n",
              "      </button>\n",
              "      \n",
              "  <style>\n",
              "    .colab-df-container {\n",
              "      display:flex;\n",
              "      flex-wrap:wrap;\n",
              "      gap: 12px;\n",
              "    }\n",
              "\n",
              "    .colab-df-convert {\n",
              "      background-color: #E8F0FE;\n",
              "      border: none;\n",
              "      border-radius: 50%;\n",
              "      cursor: pointer;\n",
              "      display: none;\n",
              "      fill: #1967D2;\n",
              "      height: 32px;\n",
              "      padding: 0 0 0 0;\n",
              "      width: 32px;\n",
              "    }\n",
              "\n",
              "    .colab-df-convert:hover {\n",
              "      background-color: #E2EBFA;\n",
              "      box-shadow: 0px 1px 2px rgba(60, 64, 67, 0.3), 0px 1px 3px 1px rgba(60, 64, 67, 0.15);\n",
              "      fill: #174EA6;\n",
              "    }\n",
              "\n",
              "    [theme=dark] .colab-df-convert {\n",
              "      background-color: #3B4455;\n",
              "      fill: #D2E3FC;\n",
              "    }\n",
              "\n",
              "    [theme=dark] .colab-df-convert:hover {\n",
              "      background-color: #434B5C;\n",
              "      box-shadow: 0px 1px 3px 1px rgba(0, 0, 0, 0.15);\n",
              "      filter: drop-shadow(0px 1px 2px rgba(0, 0, 0, 0.3));\n",
              "      fill: #FFFFFF;\n",
              "    }\n",
              "  </style>\n",
              "\n",
              "      <script>\n",
              "        const buttonEl =\n",
              "          document.querySelector('#df-e42a7883-402e-41c2-8d72-76350dfb8df8 button.colab-df-convert');\n",
              "        buttonEl.style.display =\n",
              "          google.colab.kernel.accessAllowed ? 'block' : 'none';\n",
              "\n",
              "        async function convertToInteractive(key) {\n",
              "          const element = document.querySelector('#df-e42a7883-402e-41c2-8d72-76350dfb8df8');\n",
              "          const dataTable =\n",
              "            await google.colab.kernel.invokeFunction('convertToInteractive',\n",
              "                                                     [key], {});\n",
              "          if (!dataTable) return;\n",
              "\n",
              "          const docLinkHtml = 'Like what you see? Visit the ' +\n",
              "            '<a target=\"_blank\" href=https://colab.research.google.com/notebooks/data_table.ipynb>data table notebook</a>'\n",
              "            + ' to learn more about interactive tables.';\n",
              "          element.innerHTML = '';\n",
              "          dataTable['output_type'] = 'display_data';\n",
              "          await google.colab.output.renderOutput(dataTable, element);\n",
              "          const docLink = document.createElement('div');\n",
              "          docLink.innerHTML = docLinkHtml;\n",
              "          element.appendChild(docLink);\n",
              "        }\n",
              "      </script>\n",
              "    </div>\n",
              "  </div>\n",
              "  "
            ]
          },
          "metadata": {},
          "execution_count": 33
        }
      ]
    },
    {
      "cell_type": "markdown",
      "source": [
        "**Train Data**"
      ],
      "metadata": {
        "id": "oEe3QOz3qeLJ"
      }
    },
    {
      "cell_type": "code",
      "source": [
        "#Train Data\n",
        "from sklearn.linear_model import LinearRegression\n",
        "from sklearn.model_selection import train_test_split"
      ],
      "metadata": {
        "id": "wnyIvOH-qOnR"
      },
      "execution_count": null,
      "outputs": []
    },
    {
      "cell_type": "code",
      "source": [
        "train = data.drop([\"cycle\", \"RUL\"], axis = 1)\n",
        "test = data[\"cycle\"]"
      ],
      "metadata": {
        "id": "ATeE6Rjvqk1J"
      },
      "execution_count": null,
      "outputs": []
    },
    {
      "cell_type": "code",
      "source": [
        "x_train, x_test, y_train, y_test = train_test_split(train, test, test_size = 0.3, random_state = 2)"
      ],
      "metadata": {
        "id": "oWwtCq2srFhR"
      },
      "execution_count": null,
      "outputs": []
    },
    {
      "cell_type": "code",
      "source": [
        "regr = LinearRegression()"
      ],
      "metadata": {
        "id": "56VUutzxrLbK"
      },
      "execution_count": null,
      "outputs": []
    },
    {
      "cell_type": "code",
      "source": [
        "regr.fit(x_train, y_train)"
      ],
      "metadata": {
        "colab": {
          "base_uri": "https://localhost:8080/"
        },
        "id": "bB2yRb5ZrSER",
        "outputId": "7139202e-7609-4ab9-a857-c7a350cf3457"
      },
      "execution_count": null,
      "outputs": [
        {
          "output_type": "execute_result",
          "data": {
            "text/plain": [
              "LinearRegression()"
            ]
          },
          "metadata": {},
          "execution_count": 39
        }
      ]
    },
    {
      "cell_type": "code",
      "source": [
        "pred = regr.predict(x_test)"
      ],
      "metadata": {
        "id": "7VX3toB1rXnR"
      },
      "execution_count": null,
      "outputs": []
    },
    {
      "cell_type": "code",
      "source": [
        "pred"
      ],
      "metadata": {
        "colab": {
          "base_uri": "https://localhost:8080/"
        },
        "id": "GrOlK_nCresZ",
        "outputId": "bf0bf1ae-d9b8-4b38-f0d3-b7a69a3bf45e"
      },
      "execution_count": null,
      "outputs": [
        {
          "output_type": "execute_result",
          "data": {
            "text/plain": [
              "array([2.87535826, 4.68401033])"
            ]
          },
          "metadata": {},
          "execution_count": 41
        }
      ]
    },
    {
      "cell_type": "code",
      "source": [
        "regr.score(x_test, y_test)"
      ],
      "metadata": {
        "colab": {
          "base_uri": "https://localhost:8080/"
        },
        "id": "egTevYOArjCh",
        "outputId": "2020c305-1683-4a36-fdff-258fc3bd4072"
      },
      "execution_count": null,
      "outputs": [
        {
          "output_type": "execute_result",
          "data": {
            "text/plain": [
              "0.9423074813985937"
            ]
          },
          "metadata": {},
          "execution_count": 42
        }
      ]
    }
  ]
}